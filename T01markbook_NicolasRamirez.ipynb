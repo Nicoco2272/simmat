{
 "cells": [
  {
   "cell_type": "markdown",
   "id": "6522af2a",
   "metadata": {},
   "source": [
    "# Simulación matemática T01 Markbook\n",
    "\n",
    "## Nicolás Ramírez Castro\n"
   ]
  },
  {
   "cell_type": "markdown",
   "id": "74e5d66c",
   "metadata": {},
   "source": [
    "### Presentación personal \n",
    "Tengo 19 años, vivo en Guadalajara y actualmente me encuentro cursando el tercer semestre de la carrera de ingeniería financiera en el **ITESO**. Hay muchas cosas que me gustan, pero algunas de las que más me pueden definir son: \n",
    "\n",
    "1. Me gusta mucho el fútbol \n",
    "2. Le voy al Atlas \n",
    "3. Convivo fácilmente con la gente \n",
    "4. No me gusta dejar cosas a la mitad\n",
    "5. Duermo mucho\n",
    "\n"
   ]
  },
  {
   "cell_type": "markdown",
   "id": "25cfcf56",
   "metadata": {},
   "source": [
    "![](https://www.elsoldemexico.com.mx/deportes/futbol/4asmk0-atlas-campeon-liga-.jpeg/ALTERNATES/LANDSCAPE_960/Atlas%20campeo%CC%81n%20liga%20.jpeg)"
   ]
  },
  {
   "cell_type": "markdown",
   "id": "d94cbe71",
   "metadata": {},
   "source": [
    "# Introducción a la bolsa de valores"
   ]
  },
  {
   "cell_type": "markdown",
   "id": "3cc68c4c",
   "metadata": {},
   "source": [
    "La bolsa de valores es una organización pública o privada que brinda las facilidades necesarias para que sus miembros, atendiendo los mandatos de sus clientes, introduzcan órdenes y realicen negociaciones de compra y venta de valores, tales como acciones de sociedades o compañías anónimas, bonos públicos y privados, certificados, títulos de participación y una amplia variedad de instrumentos de inversión. "
   ]
  },
  {
   "cell_type": "markdown",
   "id": "98967ae5",
   "metadata": {},
   "source": [
    "El mercado de capitales constituye un mecanismo de inversiones y ahorros que sirve de respaldo a las actividades productivas y la Bolsa es una institución creada para lograr este objetivo.\n",
    "\n"
   ]
  },
  {
   "cell_type": "markdown",
   "id": "2b4f66fc",
   "metadata": {},
   "source": [
    "En la bolsa de valores se pueden manejar diferentes instrumentos financieros como lo son:     \n",
    "\n",
    "- _Acciones_\n",
    "\n",
    "- _Futuros_\n",
    "\n",
    "- _Bonos corporativos_\n",
    "\n",
    "- *Contratos de derivados*"
   ]
  },
  {
   "cell_type": "markdown",
   "id": "b7cca988",
   "metadata": {},
   "source": [
    "$$ y = 5x+10 $$\n"
   ]
  },
  {
   "cell_type": "code",
   "execution_count": null,
   "id": "b7e2454a",
   "metadata": {},
   "outputs": [],
   "source": []
  }
 ],
 "metadata": {
  "kernelspec": {
   "display_name": "Python 3 (ipykernel)",
   "language": "python",
   "name": "python3"
  },
  "language_info": {
   "codemirror_mode": {
    "name": "ipython",
    "version": 3
   },
   "file_extension": ".py",
   "mimetype": "text/x-python",
   "name": "python",
   "nbconvert_exporter": "python",
   "pygments_lexer": "ipython3",
   "version": "3.9.12"
  }
 },
 "nbformat": 4,
 "nbformat_minor": 5
}
